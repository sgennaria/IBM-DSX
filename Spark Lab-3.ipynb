{
    "cells": [
        {
            "cell_type": "markdown", 
            "source": "# Introduction to Apache Spark lab, Lab 3: Binary Classification with Spark ML\n\n### In this notebook, we will explore Binary Classification using Spark ML. We will exploit Spark ML's high-level APIs built on top of DataFrames to create and tune machine learning pipelines. Spark ML Pipelines enable combining multiple algorithms into a single pipeline or workflow. We will heavily utilize Spark ML's feature transformers to convert, modify and scale the features that will be used to develop the machine learning model. Finally, we will evaluate and cross validate our model to demonstrate the process of determining a best fit model.\n\n### The binary classification demo will utilize the famous Titanic dataset, which has been used for Kaggle competitions and can be downloaded here. There is no need to download the data manually as it is downloaded directly within the noteboook.\nhttps://www.kaggle.com/c/titanic/data\n\n\n### The Titanic data set was chosen for this binary classification demonstration because it contains both text based and numeric features that are both continuous and categorical. This will give us the opportunity to explore and utilize a number of feature transformers available in Spark ML.\n     \n          \n\n![IBM Logo](https://encrypted-tbn0.gstatic.com/images?q=tbn:ANd9GcSzlUYaJ9xykGC-N5PijcV_eDBGCXy_pMn7sy6ymrVypmJ22q5ZmA)", 
            "metadata": {}
        }, 
        {
            "cell_type": "markdown", 
            "source": "## Table of contents\n\n1. [Install needed libraries](#libraries)<br/>\n2. [Get the Data](#getdata)<br/>\n3. [Prepare and clean the data](#prepare)<br/>\n    3.1 [Remove unneeded columns](#remove)<br/>\n4. [Transform the data](#transform)<br/>\n    4.1 [Gender and Embarkation](#stringindexer)<br/>\n    4.2 [Age and Fare](#bucketizer)<br/>\n5. [Build the Model](#build)<br/>\n6. [Split the data into train and test sets](#split)<br/>\n7. [Test the Model](#test)<br/>\n8. [Tune the Model](#tune)<br/>\n9. [Predict imaginary passenger](#predict)<br/>\n10. [Random Forest](#randomforest)<br/>\n11. [Summary](#summary)<br/>", 
            "metadata": {}
        }, 
        {
            "cell_type": "markdown", 
            "source": "## Verify Spark version and existence of Spark and Spark SQL contexts", 
            "metadata": {}
        }, 
        {
            "cell_type": "code", 
            "source": "print('The spark version is {}.'.format(spark.version))", 
            "execution_count": 1, 
            "outputs": [
                {
                    "output_type": "stream", 
                    "text": "The spark version is 2.1.0.\n", 
                    "name": "stdout"
                }
            ], 
            "metadata": {}
        }, 
        {
            "cell_type": "markdown", 
            "source": "<a id=\"libraries\"></a>\n## 1 - Import required Spark libraries \n", 
            "metadata": {}
        }, 
        {
            "cell_type": "markdown", 
            "source": "#### After executing this block, you should see a message saying that the `Pixiedust database opened successfully`.", 
            "metadata": {}
        }, 
        {
            "cell_type": "code", 
            "source": "from pyspark.ml.feature import StringIndexer\nfrom pyspark.ml.feature import Bucketizer\nfrom pyspark.mllib.linalg import Vectors\nfrom pyspark.ml.feature import VectorAssembler\nfrom pyspark.ml import Pipeline\nfrom pyspark.ml.feature import Normalizer\nfrom pyspark.ml.classification import LogisticRegression\nfrom pyspark.ml.evaluation import BinaryClassificationEvaluator\nfrom pyspark.ml.tuning import ParamGridBuilder, CrossValidator\n\n#import pixiedust display module\nfrom pixiedust.display import *", 
            "execution_count": 2, 
            "outputs": [
                {
                    "output_type": "stream", 
                    "text": "Pixiedust database opened successfully\n", 
                    "name": "stdout"
                }, 
                {
                    "output_type": "display_data", 
                    "metadata": {}, 
                    "data": {
                        "text/html": "\n        <div style=\"margin:10px\">\n            <a href=\"https://github.com/ibm-watson-data-lab/pixiedust\" target=\"_new\">\n                <img src=\"https://github.com/ibm-watson-data-lab/pixiedust/raw/master/docs/_static/pd_icon32.png\" style=\"float:left;margin-right:10px\"/>\n            </a>\n            <span>Pixiedust version 1.0.10</span>\n        </div>\n        ", 
                        "text/plain": "<IPython.core.display.HTML object>"
                    }
                }, 
                {
                    "output_type": "display_data", 
                    "metadata": {}, 
                    "data": {
                        "text/html": "<div>Warning: You are not running the latest version of PixieDust. Current is 1.0.10, Latest is 1.0.11</div>", 
                        "text/plain": "<IPython.core.display.HTML object>"
                    }
                }, 
                {
                    "output_type": "display_data", 
                    "metadata": {}, 
                    "data": {
                        "text/html": "\n                <div>Please copy and run the following command in a new cell to upgrade: <span style=\"background-color:#ececec;font-family:monospace;padding:0 5px\">!pip install --user --upgrade pixiedust</span></div>\n            ", 
                        "text/plain": "<IPython.core.display.HTML object>"
                    }
                }, 
                {
                    "output_type": "display_data", 
                    "metadata": {}, 
                    "data": {
                        "text/html": "<div>Please restart kernel after upgrading.</div>", 
                        "text/plain": "<IPython.core.display.HTML object>"
                    }
                }
            ], 
            "metadata": {}
        }, 
        {
            "cell_type": "markdown", 
            "source": "<a id=\"getdata\"></a>\n## 2 - Download Data", 
            "metadata": {}
        }, 
        {
            "cell_type": "code", 
            "source": "!rm -f Titanic.csv\n!wget https://ibm.box.com/shared/static/crceca9g1ym3nl0hwaxa5c0j0m3e19l8.csv -O Titanic.csv -q\n!ls -l Titanic.csv", 
            "execution_count": 3, 
            "outputs": [
                {
                    "output_type": "stream", 
                    "text": "-rw------- 1 s3df-710d3d40018814-e108c032744f users 61194 Sep 19 13:19 Titanic.csv\r\n", 
                    "name": "stdout"
                }
            ], 
            "metadata": {}
        }, 
        {
            "cell_type": "markdown", 
            "source": "### Read data in as a DataFrame\n### Source data is in CSV format and includes a header. We will ask Spark to infer the schema/data types.", 
            "metadata": {}
        }, 
        {
            "cell_type": "code", 
            "source": "loadTitanicData = sqlContext.read.format(\"org.apache.spark.sql.execution.datasources.csv.CSVFileFormat\").option(\"header\", \"true\").option(\"inferSchema\", \"true\").load(\"Titanic.csv\")", 
            "execution_count": 4, 
            "outputs": [], 
            "metadata": {
                "collapsed": true
            }
        }, 
        {
            "cell_type": "markdown", 
            "source": "<a id=\"prepare\"></a>\n## 3. Prepare and shape the data\n\nPixieDust is an open-source IBM library which can be used to easily and flexibly `display` data.\n\nUse PixieDust to examine the schema (click on the Schema line).   Try differing displays of the data using PixieDust.\n\nFor example, try showing a histogram of `fare` or `age` or `pclass`.    Change the renderer and see what happens.\n<br>\n <div class=\"panel-group\" id=\"accordion-3\">\n  <div class=\"panel panel-default\">\n    <div class=\"panel-heading\">\n      <h4 class=\"panel-title\">\n        <a data-toggle=\"collapse\" data-parent=\"#accordion-3\" href=\"#collapse1-3\">\n        Hint 1</a>\n      </h4>\n    </div>\n    <div id=\"collapse1-3\" class=\"panel-collapse collapse\">\n      <div class=\"panel-body\">Select the Chart icon and select Histogram</div>\n    </div>\n  </div>\n  <div class=\"panel panel-default\">\n    <div class=\"panel-heading\">\n      <h4 class=\"panel-title\">\n        <a data-toggle=\"collapse\" data-parent=\"#accordion-3\" href=\"#collapse2-3\">\n        Hint 2</a>\n      </h4>\n    </div>\n    <div id=\"collapse2-3\" class=\"panel-collapse collapse\">\n      <div class=\"panel-body\">Select the Options button.   Drag the age (or fare or class) field to the values column.   Change number of rows to display to more than the number of rows read in (1400 will do)</div>\n    </div>\n  </div>\n  <div class=\"panel panel-default\">\n    <div class=\"panel-heading\">\n      <h4 class=\"panel-title\">\n        <a data-toggle=\"collapse\" data-parent=\"#accordion-3\" href=\"#collapse3-3\">\n        Hint 3</a>\n      </h4>\n    </div>\n    <div id=\"collapse3-3\" class=\"panel-collapse collapse\">\n      <div class=\"panel-body\">Change the renderer (dropdown on upper right) to something else, such as `seaborn` or `bokeh`</div>\n    </div>\n  </div>\n</div> ", 
            "metadata": {}
        }, 
        {
            "cell_type": "code", 
            "source": "display(loadTitanicData)", 
            "execution_count": 5, 
            "outputs": [
                {
                    "output_type": "display_data", 
                    "metadata": {}, 
                    "data": {
                        "text/html": "<style type=\"text/css\">.pd_warning{display:none;}</style><div class=\"pd_warning\"><em>Hey, there's something awesome here! To see it, open this notebook outside GitHub, in a viewer like Jupyter</em></div>\n        <div class=\"pd_save is-viewer-good\" style=\"padding-right:10px;text-align: center;line-height:initial !important;font-size: xx-large;font-weight: 500;color: coral;\">\n            \n        </div>\n    \n        <div id=\"chartFigure86993327\" class=\"pd_save\" style=\"overflow-x:auto\">\n            \n                    \n                            <center><img style=\"max-width:initial !important\" src=\"data:image/png;base64,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\" class=\"pd_save\"></center>\n                        \n                    \n                \n        </div>\n    ", 
                        "text/plain": "<IPython.core.display.HTML object>"
                    }
                }
            ], 
            "metadata": {
                "pixiedust": {
                    "displayParams": {
                        "handlerId": "histogram", 
                        "valueFields": "Age,Fare,Pclass", 
                        "rowCount": "1400", 
                        "rendererId": "seaborn"
                    }
                }
            }
        }, 
        {
            "cell_type": "markdown", 
            "source": "<a id=\"remove\"></a>\n## 3.1 - Drop unwanted columns and rows with null or invalid data.", 
            "metadata": {}
        }, 
        {
            "cell_type": "code", 
            "source": "loadTitanicData = loadTitanicData.drop(\"PassengerId\").drop(\"Name\").drop(\"Ticket\").drop(\"Cabin\").dropna(how=\"any\", subset=(\"Age\", \"Embarked\"))", 
            "execution_count": 6, 
            "outputs": [], 
            "metadata": {
                "collapsed": true
            }
        }, 
        {
            "cell_type": "markdown", 
            "source": "##  We will use the 'Survived' column as a label for training the machine learning model\n#### Spark ML requires that that the labels are data type Double, so we will cast the  column as Double (it was inferred as Integer when read into Spark).", 
            "metadata": {}
        }, 
        {
            "cell_type": "code", 
            "source": "LabeledTitanicData = (loadTitanicData.withColumn(\"SurvivedTemp\", loadTitanicData[\"Survived\"]\n    .cast(\"Double\")).drop(\"Survived\")\n    .withColumnRenamed(\"SurvivedTemp\", \"Survived\"))", 
            "execution_count": 7, 
            "outputs": [], 
            "metadata": {
                "collapsed": true
            }
        }, 
        {
            "cell_type": "markdown", 
            "source": "## Show the labeled data", 
            "metadata": {}
        }, 
        {
            "cell_type": "code", 
            "source": "LabeledTitanicData.sample(False, 0.01, seed=0).show(5)", 
            "execution_count": 8, 
            "outputs": [
                {
                    "output_type": "stream", 
                    "text": "+------+------+----+-----+-----+-------+--------+--------+\n|Pclass|   Sex| Age|SibSp|Parch|   Fare|Embarked|Survived|\n+------+------+----+-----+-----+-------+--------+--------+\n|     1|female|19.0|    0|    2|26.2833|       S|     1.0|\n|     1|  male|65.0|    0|    0|  26.55|       S|     0.0|\n|     3|female|36.0|    1|    0|   17.4|       S|     1.0|\n|     3|  male|24.5|    0|    0|   8.05|       S|     0.0|\n|     1|  male|48.0|    1|    0|   52.0|       S|     1.0|\n+------+------+----+-----+-----+-------+--------+--------+\n\n", 
                    "name": "stdout"
                }
            ], 
            "metadata": {}
        }, 
        {
            "cell_type": "markdown", 
            "source": "## Print some record counts", 
            "metadata": {}
        }, 
        {
            "cell_type": "code", 
            "source": "print('The total number of rows is {}.'.format(LabeledTitanicData.count()))\nprint('The number of rows labeled Not Survived is {}.'.format(LabeledTitanicData.filter(LabeledTitanicData['Survived'] == 0).count()))\nprint('The number of rows labeled Survived is {}.'.format(LabeledTitanicData.filter(LabeledTitanicData['Survived'] == 1).count()))", 
            "execution_count": 9, 
            "outputs": [
                {
                    "output_type": "stream", 
                    "text": "The total number of rows is 712.\nThe number of rows labeled Not Survived is 424.\nThe number of rows labeled Survived is 288.\n", 
                    "name": "stdout"
                }
            ], 
            "metadata": {}
        }, 
        {
            "cell_type": "markdown", 
            "source": "## Show the schema of the labeled data", 
            "metadata": {}
        }, 
        {
            "cell_type": "code", 
            "source": "LabeledTitanicData.printSchema()", 
            "execution_count": 10, 
            "outputs": [
                {
                    "output_type": "stream", 
                    "text": "root\n |-- Pclass: integer (nullable = true)\n |-- Sex: string (nullable = true)\n |-- Age: double (nullable = true)\n |-- SibSp: integer (nullable = true)\n |-- Parch: integer (nullable = true)\n |-- Fare: double (nullable = true)\n |-- Embarked: string (nullable = true)\n |-- Survived: double (nullable = true)\n\n", 
                    "name": "stdout"
                }
            ], 
            "metadata": {}
        }, 
        {
            "cell_type": "markdown", 
            "source": "<a id=\"transform\"></a>\n## 4. Transform the data\n\nCertain data fields need to be transformed before building the model.   This can be for several reasons ranging from needing to convert String values to numeric values or shaping data into different formats.\n\n<a id=\"stringindexer\"></a>\n## 4.1 Use <a href=\"https://spark.apache.org/docs/latest/ml-features.html#stringindexer\">StringIndexer</a> to transform gender and embarked values\n\nStringIndexer is a transformer that encodes a string column to a column of indices. The indices are ordered by value frequencies, so the most frequent value gets index 0. If the input column is numeric, it is cast to string first. \n\nFor the Titanic data set, we will index the Sex/Gender column as well as the Embarked column, which specifies at which  port the passenger boarded the ship.## StringIndexer", 
            "metadata": {}
        }, 
        {
            "cell_type": "code", 
            "source": "SexIndexer = StringIndexer(inputCol=\"Sex\", outputCol=\"SexIndex\")\nEmbarkedIndexer = StringIndexer(inputCol=\"Embarked\", outputCol=\"EmbarkedIndex\")", 
            "execution_count": 11, 
            "outputs": [], 
            "metadata": {
                "collapsed": true
            }
        }, 
        {
            "cell_type": "markdown", 
            "source": "<a id=\"bucketizer\"></a>\n## 4.2 <a href=\"https://spark.apache.org/docs/latest/ml-features.html#bucketizer\">Bucketizer</a> is a transformer that transforms a column of continuous features to a column of feature buckets, where the buckets are by a splits parameter. \n\nFor the Titanic data set, we will index the Age and Fare features.\n\n<br/>\n<div class=\"panel-group\" id=\"accordion-42\">\n  <div class=\"panel panel-default\">\n    <div class=\"panel-heading\">\n      <h4 class=\"panel-title\">\n        <a data-toggle=\"collapse\" data-parent=\"#accordion-42\" href=\"#collapse1-42\">\n        Advanced Optional</a>\n      </h4>\n    </div>\n    <div id=\"collapse1-42\" class=\"panel-collapse collapse\">\n      <div class=\"panel-body\">After completing the lab, note the prediction percentage then come back and change the values for either Bucketizer and re-run the kernel [Kernel->Restart and Run All].   Note the change in prediction accuracy.</div>\n    </div>\n  </div>\n</div> ", 
            "metadata": {}
        }, 
        {
            "cell_type": "code", 
            "source": "AgeBucketSplits = [0.0, 6.0, 12.0, 18.0, 40.0, 65.0, 80.0, float(\"inf\")]\nAgeBucket = Bucketizer(splits=AgeBucketSplits, inputCol=\"Age\", outputCol=\"AgeBucket\")\n\nFareBucketSplits = [0.0, 10.0, 20.0, 30.0, 40.0, 50.0, 80.0, 100.0, float(\"inf\")]\nFareBucket = Bucketizer(splits=FareBucketSplits, inputCol=\"Fare\", outputCol=\"FareBucket\")", 
            "execution_count": 12, 
            "outputs": [], 
            "metadata": {
                "collapsed": true
            }
        }, 
        {
            "cell_type": "markdown", 
            "source": "<a id=\"build\"></a>\n## 5. Building the Model\n\n## <a href=\"https://spark.apache.org/docs/latest/ml-features.html#vectorassembler\">VectorAssembler</a> is a transformer that combines a given list of columns in the order specified into a single vector column in order to train a model.\n\n<br/>\n<div class=\"panel-group\" id=\"accordion-5\">\n  <div class=\"panel panel-default\">\n    <div class=\"panel-heading\">\n      <h4 class=\"panel-title\">\n        <a data-toggle=\"collapse\" data-parent=\"#accordion-5\" href=\"#collapse1-5\">\n        Advanced Optional</a>\n      </h4>\n    </div>\n    <div id=\"collapse1-5\" class=\"panel-collapse collapse\">\n      <div class=\"panel-body\">After completing the lab, note the prediction percentage then come back and remove some of the values in the assembler (i.e. remove sibsp, pclass and parch or remove SexIndex) and re-run the kernel [Kernel->Restart and Run All].   Note the change in prediction accuracy.</div>\n    </div>\n  </div>\n</div> ", 
            "metadata": {}
        }, 
        {
            "cell_type": "code", 
            "source": "assembler = VectorAssembler(inputCols= [\"SexIndex\", \"EmbarkedIndex\", \"AgeBucket\", \"FareBucket\", \"SibSp\", \"Pclass\", \"Parch\"], outputCol=\"features\")", 
            "execution_count": 13, 
            "outputs": [], 
            "metadata": {
                "collapsed": true
            }
        }, 
        {
            "cell_type": "markdown", 
            "source": "## Normalizer is a Transformer which transforms a dataset of Vector rows, normalizing each Vector to have unit norm\n### This normalization can help standardize your input data and improve the behavior of learning algorithms.", 
            "metadata": {}
        }, 
        {
            "cell_type": "code", 
            "source": "normalizer = Normalizer(inputCol=\"features\", outputCol=\"normFeatures\", p=1.0)", 
            "execution_count": 14, 
            "outputs": [], 
            "metadata": {
                "collapsed": true
            }
        }, 
        {
            "cell_type": "markdown", 
            "source": "## Logistic regression is a popular method to predict a binary response\n### It is a special case of Generalized Linear models that predicts the probability of an outcome.", 
            "metadata": {}
        }, 
        {
            "cell_type": "code", 
            "source": "lr = LogisticRegression(featuresCol=\"normFeatures\", labelCol=\"Survived\", predictionCol=\"prediction\", maxIter=10, regParam=0.1, elasticNetParam=0.8)", 
            "execution_count": 15, 
            "outputs": [], 
            "metadata": {
                "collapsed": true
            }
        }, 
        {
            "cell_type": "markdown", 
            "source": "## A Pipeline is a sequence of stages where each stage is either a Transformer or an Estimator\n### These stages are run in order and the input DataFrame is transformed as it passes through each stage. \n\n### In machine learning, it is common to run a sequence of algorithms to process and learn from data.", 
            "metadata": {}
        }, 
        {
            "cell_type": "code", 
            "source": "pipeline = Pipeline(stages=[SexIndexer, EmbarkedIndexer, AgeBucket,FareBucket, assembler, normalizer, lr])", 
            "execution_count": 16, 
            "outputs": [], 
            "metadata": {
                "collapsed": true
            }
        }, 
        {
            "cell_type": "markdown", 
            "source": "<a id=\"split\"></a>\n## 6 - Split the data into training (90%) and testing (10%) sets using <a href=\"https://spark.apache.org/docs/latest/api/python/pyspark.sql.html#pyspark.sql.DataFrame.randomSplit\">random_split()</a>\n\nSet seed to 1 in order to make certain this is repeatable.\n<br>\n <div class=\"panel-group\" id=\"accordion-6\">\n  <div class=\"panel panel-default\">\n    <div class=\"panel-heading\">\n      <h4 class=\"panel-title\">\n        <a data-toggle=\"collapse\" data-parent=\"#accordion-6\" href=\"#collapse1-6\">\n        Hint 1</a>\n      </h4>\n    </div>\n    <div id=\"collapse1-6\" class=\"panel-collapse collapse\">\n      <div class=\"panel-body\">train, test = LabeledTitanicData.randomSplit()</div>\n    </div>\n  </div>\n  <div class=\"panel panel-default\">\n    <div class=\"panel-heading\">\n      <h4 class=\"panel-title\">\n        <a data-toggle=\"collapse\" data-parent=\"#accordion-6\" href=\"#collapse2-6\">\n        Hint 2</a>\n      </h4>\n    </div>\n    <div id=\"collapse2-6\" class=\"panel-collapse collapse\">\n      <div class=\"panel-body\">train, test = LabeledTitanicData.randomSplit([??,??], seed=??)</div>\n    </div>\n  </div>\n  <div class=\"panel panel-default\">\n    <div class=\"panel-heading\">\n      <h4 class=\"panel-title\">\n        <a data-toggle=\"collapse\" data-parent=\"#accordion-6\" href=\"#collapse3-6\">\n        Solution</a>\n      </h4>\n    </div>\n    <div id=\"collapse3-6\" class=\"panel-collapse collapse\">\n      <div class=\"panel-body\">train, test = LabeledTitanicData.randomSplit([90.0,10.0], seed=1)</div>\n    </div>\n  </div>\n</div> ", 
            "metadata": {}
        }, 
        {
            "cell_type": "code", 
            "source": "train, test = LabeledTitanicData.randomSplit([90.0,10.0], seed=1)\ntrain.cache()\ntest.cache()\nprint('The number of records in the traininig data set is {}.'.format(train.count()))\nprint('The number of rows labeled Not Survived in the training data set is {}.'.format(train.filter(train['Survived'] == 0).count()))\nprint('The number of rows labeled Survived in the training data set is {}.'.format(train.filter(train['Survived'] == 1).count()))\ntrain.sample(False, 0.01, seed=0).show(5)\nprint('')\n\nprint('The number of records in the test data set is {}.'.format(test.count()))\nprint('The number of rows labeled Not Survived in the test data set is {}.'.format(test.filter(train['Survived'] == 0).count()))\nprint('The number of rows labeled Survived in the test data set is {}.'.format(test.filter(train['Survived'] == 1).count()))\ntest.sample(False, 0.1, seed=0).show(5)", 
            "execution_count": 18, 
            "outputs": [
                {
                    "output_type": "stream", 
                    "text": "The number of records in the traininig data set is 628.\nThe number of rows labeled Not Survived in the training data set is 365.\nThe number of rows labeled Survived in the training data set is 263.\n+------+------+----+-----+-----+-------+--------+--------+\n|Pclass|   Sex| Age|SibSp|Parch|   Fare|Embarked|Survived|\n+------+------+----+-----+-----+-------+--------+--------+\n|     1|  male|36.0|    0|    0|26.2875|       S|     1.0|\n|     3|female|22.0|    0|    0|   7.75|       Q|     1.0|\n|     3|  male|16.0|    4|    1|39.6875|       S|     0.0|\n|     3|  male|27.0|    0|    0|  6.975|       S|     1.0|\n|     3|  male|31.0|    0|    0|  7.775|       S|     0.0|\n+------+------+----+-----+-----+-------+--------+--------+\n\n\nThe number of records in the test data set is 84.\nThe number of rows labeled Not Survived in the test data set is 59.\nThe number of rows labeled Survived in the test data set is 25.\n+------+------+----+-----+-----+------+--------+--------+\n|Pclass|   Sex| Age|SibSp|Parch|  Fare|Embarked|Survived|\n+------+------+----+-----+-----+------+--------+--------+\n|     2|female|29.0|    0|    0|  10.5|       S|     1.0|\n|     2|  male|51.0|    0|    0|12.525|       S|     0.0|\n|     3|female| 4.0|    0|    2|22.025|       S|     1.0|\n|     3|female|24.0|    0|    0|  8.85|       S|     0.0|\n|     3|female|47.0|    1|    0|  14.5|       S|     0.0|\n+------+------+----+-----+-----+------+--------+--------+\nonly showing top 5 rows\n\n", 
                    "name": "stdout"
                }
            ], 
            "metadata": {}
        }, 
        {
            "cell_type": "markdown", 
            "source": "## Fit the pipeline to the training data", 
            "metadata": {}
        }, 
        {
            "cell_type": "code", 
            "source": "model = pipeline.fit(train)", 
            "execution_count": 19, 
            "outputs": [], 
            "metadata": {
                "collapsed": true
            }
        }, 
        {
            "cell_type": "markdown", 
            "source": "<a id=\"test\"></a>\n## 7 - Make predictions on passengers in the Test data set\n### Keep in mind that the model has not seen the data in the test data set", 
            "metadata": {}
        }, 
        {
            "cell_type": "code", 
            "source": "predictions = model.transform(test)", 
            "execution_count": 20, 
            "outputs": [], 
            "metadata": {
                "collapsed": true
            }
        }, 
        {
            "cell_type": "markdown", 
            "source": "## Show results", 
            "metadata": {}
        }, 
        {
            "cell_type": "code", 
            "source": "predictions.sample(False, 0.1, seed=0).show(5)", 
            "execution_count": 21, 
            "outputs": [
                {
                    "output_type": "stream", 
                    "text": "+------+------+----+-----+-----+------+--------+--------+--------+-------------+---------+----------+--------------------+--------------------+--------------------+--------------------+----------+\n|Pclass|   Sex| Age|SibSp|Parch|  Fare|Embarked|Survived|SexIndex|EmbarkedIndex|AgeBucket|FareBucket|            features|        normFeatures|       rawPrediction|         probability|prediction|\n+------+------+----+-----+-----+------+--------+--------+--------+-------------+---------+----------+--------------------+--------------------+--------------------+--------------------+----------+\n|     2|female|29.0|    0|    0|  10.5|       S|     1.0|     1.0|          0.0|      3.0|       1.0|[1.0,0.0,3.0,1.0,...|[0.14285714285714...|[-0.7707480103402...|[0.31631731882287...|       1.0|\n|     2|  male|51.0|    0|    0|12.525|       S|     0.0|     0.0|          0.0|      4.0|       1.0|(7,[2,3,5],[4.0,1...|(7,[2,3,5],[0.571...|[0.96711625250958...|[0.72454433275422...|       0.0|\n|     3|female| 4.0|    0|    2|22.025|       S|     1.0|     1.0|          0.0|      0.0|       2.0|[1.0,0.0,0.0,2.0,...|[0.125,0.0,0.0,0....|[-0.7526965191053...|[0.32023402691335...|       1.0|\n|     3|female|24.0|    0|    0|  8.85|       S|     0.0|     1.0|          0.0|      3.0|       0.0|(7,[0,2,5],[1.0,3...|(7,[0,2,5],[0.142...|[-0.4971836514481...|[0.37820274906871...|       1.0|\n|     3|female|47.0|    1|    0|  14.5|       S|     0.0|     1.0|          0.0|      4.0|       1.0|[1.0,0.0,4.0,1.0,...|[0.1,0.0,0.4,0.1,...|[-0.2369764619157...|[0.44103158814620...|       1.0|\n+------+------+----+-----+-----+------+--------+--------+--------+-------------+---------+----------+--------------------+--------------------+--------------------+--------------------+----------+\nonly showing top 5 rows\n\n", 
                    "name": "stdout"
                }
            ], 
            "metadata": {}
        }, 
        {
            "cell_type": "code", 
            "source": "print('The number of predictions labeled Not Survived is {}.'.format(predictions.filter(predictions['prediction'] == 0).count()))\nprint('The number of predictions labeled Survived is {}.'.format(predictions.filter(predictions['prediction'] == 1).count()))", 
            "execution_count": 22, 
            "outputs": [
                {
                    "output_type": "stream", 
                    "text": "The number of predictions labeled Not Survived is 59.\nThe number of predictions labeled Survived is 25.\n", 
                    "name": "stdout"
                }
            ], 
            "metadata": {}
        }, 
        {
            "cell_type": "code", 
            "source": "(predictions.filter(\"Survived = 0.0\")\n     .select(\"Sex\", \"Age\", \"Fare\", \"Embarked\", \"Pclass\", \"Parch\", \"SibSp\", \"Survived\", \"prediction\")\n     .sample(False, 0.1, seed=0).show(5))\n\n(predictions.filter(\"Survived = 1.0\")\n     .select(\"Sex\", \"Age\", \"Fare\", \"Embarked\", \"Pclass\", \"Parch\", \"SibSp\", \"Survived\", \"prediction\")\n     .sample(False, 0.5, seed=0).show(5))", 
            "execution_count": 23, 
            "outputs": [
                {
                    "output_type": "stream", 
                    "text": "+------+----+------+--------+------+-----+-----+--------+----------+\n|   Sex| Age|  Fare|Embarked|Pclass|Parch|SibSp|Survived|prediction|\n+------+----+------+--------+------+-----+-----+--------+----------+\n|female| 8.0|21.075|       S|     3|    1|    3|     0.0|       1.0|\n|  male|20.5|  7.25|       S|     3|    0|    0|     0.0|       0.0|\n|  male|26.0|7.8875|       S|     3|    0|    0|     0.0|       0.0|\n|  male|30.0|  8.05|       S|     3|    0|    0|     0.0|       0.0|\n|  male|33.0|   9.5|       S|     3|    0|    0|     0.0|       0.0|\n+------+----+------+--------+------+-----+-----+--------+----------+\nonly showing top 5 rows\n\n+------+----+--------+--------+------+-----+-----+--------+----------+\n|   Sex| Age|    Fare|Embarked|Pclass|Parch|SibSp|Survived|prediction|\n+------+----+--------+--------+------+-----+-----+--------+----------+\n|female|23.0| 113.275|       C|     1|    0|    1|     1.0|       1.0|\n|  male|35.0|512.3292|       C|     1|    0|    0|     1.0|       0.0|\n|  male|38.0|    90.0|       S|     1|    0|    1|     1.0|       0.0|\n|  male|42.0| 52.5542|       S|     1|    0|    1|     1.0|       0.0|\n|female|35.0|    21.0|       S|     2|    0|    0|     1.0|       1.0|\n+------+----+--------+--------+------+-----+-----+--------+----------+\nonly showing top 5 rows\n\n", 
                    "name": "stdout"
                }
            ], 
            "metadata": {}
        }, 
        {
            "cell_type": "markdown", 
            "source": "## Create an evaluator for the binary classification using area under the ROC Curve as the evaluation metric\n\n### Receiver operating characteristic (ROC) is a graphical plot that illustrates the performance of a binary classifier system as its discrimination threshold is varied\n\nThe curve is created by plotting the true positive rate against the false positive rate at various threshold settings. The ROC curve is thus the sensitivity as a function of fall-out. The area under the ROC curve is useful for comparing and selecting the best machine learning model for a given data set. A model with an area under the ROC curve score near 1 has very good performance. A model with a score near 0.5 is about as good as flipping a coin.", 
            "metadata": {
                "collapsed": true
            }
        }, 
        {
            "cell_type": "code", 
            "source": "evaluator = BinaryClassificationEvaluator().setLabelCol(\"Survived\").setMetricName(\"areaUnderROC\")\nprint('Area under the ROC curve = {}.'.format(evaluator.evaluate(predictions)))", 
            "execution_count": 24, 
            "outputs": [
                {
                    "output_type": "stream", 
                    "text": "Area under the ROC curve = 0.8145762711864406.\n", 
                    "name": "stdout"
                }
            ], 
            "metadata": {}
        }, 
        {
            "cell_type": "markdown", 
            "source": "<a id=\"tune\"></a>\n## 8 - Tune Hyperparameters\n### Generate hyperparameter combinations by taking the cross product of some parameter values\n\nSpark ML algorithms provide many hyperparameters for tuning models. These hyperparameters are distinct from the model parameters being optimized by Spark ML itself. Hyperparameter tuning is accomplished by choosing the best set of parameters based on model performance on test data that the model was not trained with. All combinations of hyperparameters specified will be tried in order to find the one that leads to the model with the best evaluation result.", 
            "metadata": {}
        }, 
        {
            "cell_type": "markdown", 
            "source": "## Build a Parameter Grid specifying what parameters and values will be evaluated in order to determine the best combination", 
            "metadata": {}
        }, 
        {
            "cell_type": "code", 
            "source": "paramGrid = (ParamGridBuilder().addGrid(lr.regParam, [0.0, 0.1, 0.3])\n                 .addGrid(lr.elasticNetParam, [0.0, 0.8, 1.0])\n                 .addGrid(normalizer.p, [1.0, 2.0])\n                 .build())", 
            "execution_count": 25, 
            "outputs": [], 
            "metadata": {
                "collapsed": true
            }
        }, 
        {
            "cell_type": "markdown", 
            "source": "## Create a cross validator to tune the pipeline with the generated parameter grid\nSpark ML provides for cross-validation for hyperparameter tuning. Cross-validation attempts to fit the underlying estimator with user-specified combinations of parameters, cross-evaluate the fitted models, and output the best one.", 
            "metadata": {}
        }, 
        {
            "cell_type": "code", 
            "source": "cv = CrossValidator().setEstimator(pipeline).setEvaluator(evaluator).setEstimatorParamMaps(paramGrid).setNumFolds(10)", 
            "execution_count": 26, 
            "outputs": [], 
            "metadata": {
                "collapsed": true
            }
        }, 
        {
            "cell_type": "markdown", 
            "source": "## Cross-evaluate the ML Pipeline to find the best model\n### using the area under the ROC evaluator and hyperparameters specified in the parameter grid", 
            "metadata": {}
        }, 
        {
            "cell_type": "code", 
            "source": "cvModel = cv.fit(LabeledTitanicData)\nprint('Area under the ROC curve for best fitted model = {}.'.format(evaluator.evaluate(cvModel.transform(LabeledTitanicData))))", 
            "execution_count": 27, 
            "outputs": [
                {
                    "output_type": "stream", 
                    "text": "Area under the ROC curve for best fitted model = 0.8548955057651987.\n", 
                    "name": "stdout"
                }
            ], 
            "metadata": {}
        }, 
        {
            "cell_type": "markdown", 
            "source": "## Let's see what improvement we achieve by tuning the hyperparameters using cross-evaluation ", 
            "metadata": {}
        }, 
        {
            "cell_type": "code", 
            "source": "print('Area under the ROC curve for non-tuned model = {}.'.format(evaluator.evaluate(predictions)))\nprint('Area under the ROC curve for best fitted model = {}.'.format(evaluator.evaluate(cvModel.transform(LabeledTitanicData))))\nprint('Improvement = {0:0.2f}%'.format((evaluator.evaluate(cvModel.transform(LabeledTitanicData)) - evaluator.evaluate(predictions)) *100 / evaluator.evaluate(predictions)))", 
            "execution_count": 28, 
            "outputs": [
                {
                    "output_type": "stream", 
                    "text": "Area under the ROC curve for non-tuned model = 0.8145762711864406.\nArea under the ROC curve for best fitted model = 0.8548955057651987.\nImprovement = 4.95%\n", 
                    "name": "stdout"
                }
            ], 
            "metadata": {}
        }, 
        {
            "cell_type": "markdown", 
            "source": "## Make improved predictions using the Cross-validated model\n### Using the Test data set and DataFrame API", 
            "metadata": {}
        }, 
        {
            "cell_type": "code", 
            "source": "cvModel.transform(test).select(\"Survived\", \"prediction\").sample(False, 0.1, seed=0).show(10)", 
            "execution_count": 29, 
            "outputs": [
                {
                    "output_type": "stream", 
                    "text": "+--------+----------+\n|Survived|prediction|\n+--------+----------+\n|     1.0|       1.0|\n|     0.0|       0.0|\n|     1.0|       1.0|\n|     0.0|       1.0|\n|     0.0|       0.0|\n|     0.0|       0.0|\n|     0.0|       0.0|\n+--------+----------+\n\n", 
                    "name": "stdout"
                }
            ], 
            "metadata": {
                "scrolled": true
            }
        }, 
        {
            "cell_type": "markdown", 
            "source": "### Like above, but now using SQL", 
            "metadata": {}
        }, 
        {
            "cell_type": "code", 
            "source": "# create temporary table\ncvModel.transform(test).createOrReplaceTempView(\"cvModelPredictions\")\nspark.sql(\"SELECT Survived, prediction FROM cvModelPredictions\").sample(False, 0.1, seed=0).show(10)", 
            "execution_count": 30, 
            "outputs": [
                {
                    "output_type": "stream", 
                    "text": "+--------+----------+\n|Survived|prediction|\n+--------+----------+\n|     1.0|       1.0|\n|     0.0|       0.0|\n|     1.0|       1.0|\n|     0.0|       1.0|\n|     0.0|       0.0|\n|     0.0|       0.0|\n|     0.0|       0.0|\n+--------+----------+\n\n", 
                    "name": "stdout"
                }
            ], 
            "metadata": {}
        }, 
        {
            "cell_type": "markdown", 
            "source": "<a id=\"predict\"></a>\n## 9 - Make a prediction on an imaginary passenger", 
            "metadata": {}
        }, 
        {
            "cell_type": "markdown", 
            "source": "## Define the imaginary passenger's features", 
            "metadata": {}
        }, 
        {
            "cell_type": "code", 
            "source": "SexValue = 'female'\nAgeValue = 40.0\nFareValue = 15.0\nEmbarkedValue = 'C'\nPclassValue = 2\nSibSpValue = 1\nParchValue = 1\n\nPredictionFeatures = (spark.createDataFrame([(SexValue, AgeValue, FareValue, EmbarkedValue, PclassValue, SibSpValue, ParchValue)],\n    ['Sex', 'Age', 'Fare', 'Embarked', 'Pclass', 'SibSp', 'Parch']))\nPredictionFeatures.show()", 
            "execution_count": 31, 
            "outputs": [
                {
                    "output_type": "stream", 
                    "text": "+------+----+----+--------+------+-----+-----+\n|   Sex| Age|Fare|Embarked|Pclass|SibSp|Parch|\n+------+----+----+--------+------+-----+-----+\n|female|40.0|15.0|       C|     2|    1|    1|\n+------+----+----+--------+------+-----+-----+\n\n", 
                    "name": "stdout"
                }
            ], 
            "metadata": {}
        }, 
        {
            "cell_type": "markdown", 
            "source": "## Predict whether the imaginary person would have survived\n### using the best fit model", 
            "metadata": {}
        }, 
        {
            "cell_type": "code", 
            "source": "SurvivedOrNotPrediction = cvModel.transform(PredictionFeatures)\nSurvivedOrNotPrediction.select('rawPrediction', 'probability', 'prediction').show(1, False)", 
            "execution_count": 32, 
            "outputs": [
                {
                    "output_type": "stream", 
                    "text": "+----------------------------------------+---------------------------------------+----------+\n|rawPrediction                           |probability                            |prediction|\n+----------------------------------------+---------------------------------------+----------+\n|[0.1968334246904791,-0.1968334246904791]|[0.549050094397346,0.45094990560265397]|0.0       |\n+----------------------------------------+---------------------------------------+----------+\n\n", 
                    "name": "stdout"
                }
            ], 
            "metadata": {}
        }, 
        {
            "cell_type": "markdown", 
            "source": "## Display Prediction Result", 
            "metadata": {}
        }, 
        {
            "cell_type": "code", 
            "source": "SurvivedOrNot = SurvivedOrNotPrediction.select(\"prediction\").first()[0]\nif SurvivedOrNot == 0.0:\n    print(\"Did NOT Survive\")\nelif(SurvivedOrNot == 1.0):\n    print(\"Did Survive!!!\")\nelse:\n    print(\"Invalid Prediction\")", 
            "execution_count": 33, 
            "outputs": [
                {
                    "output_type": "stream", 
                    "text": "Did NOT Survive\n", 
                    "name": "stdout"
                }
            ], 
            "metadata": {}
        }, 
        {
            "cell_type": "markdown", 
            "source": "<a id=\"randomforest\"></a>\n## 10 - Let's take a quick look at applying the feature engineering performed above to a Random Forest Model\n### Random forests are ensembles of decision trees. They combine many decision trees in order to reduce the risk of overfitting.\n### We won't do any hyperparamter tuning in this example, but just show how to create and evaluate the model using all default hyperparameters", 
            "metadata": {}
        }, 
        {
            "cell_type": "code", 
            "source": "from pyspark.ml.classification import RandomForestClassificationModel, RandomForestClassifier\nfrom pyspark.ml.evaluation import MulticlassClassificationEvaluator\nfrom pyspark.ml.feature import IndexToString\n\n# Index labels, adding metadata to the label column.\n# Fit on whole dataset to include all labels in index.\nlabelIndexer = StringIndexer().setInputCol(\"Survived\").setOutputCol(\"indexedLabel\").fit(LabeledTitanicData)\n\n# Train a RandomForest model\nrf = RandomForestClassifier().setLabelCol(\"indexedLabel\").setFeaturesCol(\"features\").setNumTrees(20)\n\n# Convert indexed labels back to original labels.\nlabelConverter = IndexToString().setInputCol(\"prediction\").setOutputCol(\"predictedLabel\").setLabels(labelIndexer.labels)\n\n# Create new Pipeline using the RandomForest model and all the same feature transformers used above for logistic regression\npipelineRF = Pipeline().setStages([labelIndexer, SexIndexer, EmbarkedIndexer, AgeBucket, FareBucket, assembler, normalizer, rf, labelConverter])\n\n# Train model.\nmodelRF = pipelineRF.fit(train)\n\n# Make predictions.\npredictionsRF = modelRF.transform(test)\n\n# Select example rows to display.\npredictionsRF.select(\"predictedLabel\", \"Survived\", \"features\").show(10)\n\n# Select (prediction, true label) and compute test error\nevaluatorRF = MulticlassClassificationEvaluator().setLabelCol(\"Survived\").setPredictionCol(\"prediction\").setMetricName(\"accuracy\")\naccuracyRF = evaluatorRF.evaluate(predictionsRF)\nprint(\"Accuracy = %g\" % accuracyRF)\nprint(\"Test Error = %g\" % (1.0 - accuracyRF))\n\nrfModel = modelRF.stages[7]\nprint(rfModel)  # summary only", 
            "execution_count": 34, 
            "outputs": [
                {
                    "output_type": "stream", 
                    "text": "+--------------+--------+--------------------+\n|predictedLabel|Survived|            features|\n+--------------+--------+--------------------+\n|           1.0|     1.0|[1.0,0.0,2.0,3.0,...|\n|           1.0|     1.0|[1.0,1.0,3.0,7.0,...|\n|           1.0|     1.0|[1.0,0.0,3.0,6.0,...|\n|           1.0|     1.0|[1.0,1.0,3.0,7.0,...|\n|           1.0|     1.0|[1.0,0.0,3.0,6.0,...|\n|           1.0|     1.0|[1.0,0.0,3.0,5.0,...|\n|           0.0|     1.0|[0.0,0.0,3.0,5.0,...|\n|           0.0|     1.0|(7,[2,3,5],[3.0,3...|\n|           0.0|     0.0|[0.0,1.0,3.0,6.0,...|\n|           0.0|     0.0| (7,[2,5],[3.0,1.0])|\n+--------------+--------+--------------------+\nonly showing top 10 rows\n\nAccuracy = 0.809524\nTest Error = 0.190476\nRandomForestClassificationModel (uid=rfc_e4b62c8e768a) with 20 trees\n", 
                    "name": "stdout"
                }
            ], 
            "metadata": {}
        }, 
        {
            "cell_type": "markdown", 
            "source": "<a id=\"summary\"></a>\n![IBM Logo](http://www-03.ibm.com/press/img/Large_IBM_Logo_TN.jpg)\n\nYou created a predictive model that predicts survival probabilities for passengers on the Titanic.\n\n  - Load the data\n  - Cleaned the data\n  - Created transformers to shape the data\n  - Created a model using Pipeline\n  - Split the data into training and test sets\n  - Tested the model\n  - Tuned the model\n  - Tested the model on an imaginary passenger\n  - Build a second model using Random Forest\n  ", 
            "metadata": {}
        }, 
        {
            "cell_type": "code", 
            "source": "", 
            "execution_count": null, 
            "outputs": [], 
            "metadata": {
                "collapsed": true
            }
        }
    ], 
    "nbformat": 4, 
    "nbformat_minor": 1, 
    "metadata": {
        "kernelspec": {
            "language": "python", 
            "display_name": "Python 3.5 (Experimental) with Spark 2.1", 
            "name": "python3-spark21"
        }, 
        "language_info": {
            "pygments_lexer": "ipython3", 
            "file_extension": ".py", 
            "codemirror_mode": {
                "version": 3, 
                "name": "ipython"
            }, 
            "version": "3.5.2", 
            "mimetype": "text/x-python", 
            "nbconvert_exporter": "python", 
            "name": "python"
        }
    }
}